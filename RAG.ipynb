{
 "cells": [
  {
   "cell_type": "markdown",
   "id": "70503e15",
   "metadata": {},
   "source": [
    "# Retrieval Augmented Generation\n",
    "\n",
    "## Dataset\n",
    "\n",
    "\n",
    "## Chosen Embedding models:\n",
    "\n",
    "- GloVe: Global Vectors for World Representation by Jeffrey Pennington,   Richard Socher,   Christopher D. Manning \n",
    "    - github: https://github.com/stanfordnlp/GloVe\n",
    "    - research paper:\n",
    "        - https://nlp.stanford.edu/pubs/glove.pdf\n",
    "        - https://nlp.stanford.edu/projects/glove/\n",
    "- \n",
    "- \n"
   ]
  },
  {
   "cell_type": "markdown",
   "id": "e7d73be6",
   "metadata": {},
   "source": [
    "## 2.0 Implement Embedding Generation\n",
    "\n"
   ]
  },
  {
   "cell_type": "code",
   "execution_count": 1,
   "id": "bb979c28",
   "metadata": {},
   "outputs": [],
   "source": [
    "from sentence_transformers import SentenceTransformer\n",
    "from openai import OpenAI\n",
    "import numpy as np\n",
    "\n",
    "def preprocess_text(text):\n",
    "    return text.strip().replace('\\n', ' ')\n",
    "\n",
    "def sbert_embed(text):\n",
    "    model = SentenceTransformer('all-MiniLM-L6-v2')\n",
    "    return model.encode(text)\n",
    "\n",
    "def openai_embed(text):\n",
    "    client = OpenAI()\n",
    "    response = client.embeddings.create(input=text, model=\"text-embedding-ada-002\")\n",
    "    return response.data[0].embedding\n",
    "\n",
    "# def glove_embed(text):\n",
    "def glove_embed(text, glove_embeddings, vector_size=300):\n",
    "    words = text.split()\n",
    "    valid_vectors = []\n",
    "\n",
    "    for word in words:\n",
    "        word = word.lower()\n",
    "        if word in glove_embeddings:\n",
    "            valid_vectors.append(glove_embeddings[word])\n",
    "\n",
    "    if valid_vectors:\n",
    "        return np.mean(valid_vectors, axis=0)\n",
    "    else:\n",
    "        return np.zeros(vector_size)\n",
    "\n"
   ]
  },
  {
   "cell_type": "markdown",
   "id": "8783e330",
   "metadata": {},
   "source": [
    "### 3.0 Generate Embeddings"
   ]
  },
  {
   "cell_type": "code",
   "execution_count": null,
   "id": "2e29b25a",
   "metadata": {},
   "outputs": [],
   "source": [
    "from pathlib import Path\n",
    "from PyPDF2 import PdfReader\n",
    "\n",
    "def chunk_text(text, max_tokens=500):\n",
    "    \"\"\"Splits long text into chunks of approximately max_tokens (words ≈ tokens).\"\"\"\n",
    "    words = text.split()\n",
    "    for i in range(0, len(words), max_tokens):\n",
    "        yield ' '.join(words[i:i + max_tokens])\n",
    "\n",
    "\n",
    "def load_pdfs_from_folder(folder_path):\n",
    "    pdf_texts = []\n",
    "    pdf_paths = Path(folder_path).glob(\"*.pdf\") \n",
    "    \n",
    "    for pdf_path in pdf_paths:\n",
    "        reader = PdfReader(str(pdf_path))\n",
    "        text = \"\"\n",
    "        for page in reader.pages:\n",
    "            text += page.extract_text() or \"\"  # sometimes pages have no text\n",
    "        pdf_texts.append((str(pdf_path), text))\n",
    "    \n",
    "    return pdf_texts # returns tuples, filename, full_text\n",
    "\n",
    "# load embeddings\n",
    "def load_embeddings(glove_file_path):\n",
    "    embeddings = {}\n",
    "    with open(glove_file_path, \"r\", encoding=\"utf8\") as f:\n",
    "        for line in f:\n",
    "            parts = line.strip().split()\n",
    "            word = parts[0]\n",
    "            vector = list(map(float, parts[1:]))\n",
    "            embeddings[word] = vector\n",
    "    return embeddings\n",
    "\n",
    "\n",
    "def test_embedding(embedding_model):\n",
    "    pdfs = load_pdfs_from_folder(\"./data/v1/docs\") # 1. Load PDFs\n",
    "    embedded_pdfs = []\n",
    "\n",
    "    if (embedding_model==\"glove\"):\n",
    "        glove_path = \"glove.6B/glove.6B.300d.txt\" # 2. Load GloVe\n",
    "        glove_embeddings = load_embeddings(glove_path)\n",
    "    # 3. Embed each document\n",
    "        # here is where the actual embeddings are done (where glove_embed is called) and where they are added to a list of the embedded_pdfs through glove\n",
    "        for filename, text in pdfs:\n",
    "            for chunk in chunk_text(text, max_tokens=500):  # CHUNKING HERE\n",
    "                embedding = glove_embed(chunk, glove_embeddings, vector_size=300)\n",
    "                embedded_pdfs.append((filename, embedding, chunk))\n",
    "        return embedded_pdfs, glove_embeddings\n",
    "    \n",
    "    elif (embedding_model==\"sbert\"):\n",
    "        for filename, text in pdfs:\n",
    "            for chunk in chunk_text(text, max_tokens=500):\n",
    "                embedding = sbert_embed(chunk)\n",
    "                embedded_pdfs.append((filename, embedding, chunk))\n",
    "    \n",
    "    elif (embedding_model==\"open_ai\"):\n",
    "        for filename, text in pdfs:\n",
    "            for chunk in chunk_text(text, max_tokens=500):\n",
    "                embedding = openai_embed(chunk)\n",
    "                embedded_pdfs.append((filename, embedding, chunk))\n",
    "\n",
    "    else:\n",
    "        print(f\"embedding model {embedding_model} is not in this testing code\")\n",
    "\n",
    "    return embedded_pdfs"
   ]
  },
  {
   "cell_type": "markdown",
   "id": "915af6b5",
   "metadata": {},
   "source": [
    "# Run each embedding"
   ]
  },
  {
   "cell_type": "code",
   "execution_count": 8,
   "id": "1dd32bb4",
   "metadata": {},
   "outputs": [],
   "source": [
    "glove_embedded_pdfs, glove_embeddings = test_embedding(\"glove\")"
   ]
  },
  {
   "cell_type": "code",
   "execution_count": 24,
   "id": "63ee8cc5",
   "metadata": {},
   "outputs": [],
   "source": [
    "sbert_embedded_pdfs = test_embedding(\"sbert\")"
   ]
  },
  {
   "cell_type": "code",
   "execution_count": 10,
   "id": "bcef093e",
   "metadata": {},
   "outputs": [],
   "source": [
    "openai_embedded_pdfs = test_embedding(\"open_ai\")"
   ]
  },
  {
   "cell_type": "markdown",
   "id": "39d30e4c",
   "metadata": {},
   "source": [
    "# Save to Json files"
   ]
  },
  {
   "cell_type": "code",
   "execution_count": 5,
   "id": "6102600d",
   "metadata": {},
   "outputs": [],
   "source": [
    "import json\n",
    "\n",
    "def save_embeddings_to_jsonl(data, output_path=\"openai_embedded_pdfs.jsonl\"):\n",
    "    with open(output_path, 'w', encoding='utf-8') as f:\n",
    "        for filename, embedding, text in data:\n",
    "            record = {\n",
    "                \"filename\": filename,\n",
    "                \"embedding\": embedding.tolist() if isinstance(embedding, (np.ndarray, list)) else list(embedding),\n",
    "                \"text\": text\n",
    "            }\n",
    "            f.write(json.dumps(record) + \"\\n\")\n"
   ]
  },
  {
   "cell_type": "code",
   "execution_count": 6,
   "id": "6fdeb864",
   "metadata": {},
   "outputs": [],
   "source": [
    "save_embeddings_to_jsonl(glove_embedded_pdfs, \"glove_embedded_pdfs.jsonl\")"
   ]
  },
  {
   "cell_type": "code",
   "execution_count": 25,
   "id": "56e87154",
   "metadata": {},
   "outputs": [],
   "source": [
    "save_embeddings_to_jsonl(sbert_embedded_pdfs, \"sbert_embedded_pdfs.jsonl\")"
   ]
  },
  {
   "cell_type": "code",
   "execution_count": null,
   "id": "2de3bb9b",
   "metadata": {},
   "outputs": [],
   "source": [
    "save_embeddings_to_jsonl(openai_embedded_pdfs)"
   ]
  },
  {
   "cell_type": "markdown",
   "id": "9c72e91c",
   "metadata": {},
   "source": [
    "# Retrieve saved data from Json"
   ]
  },
  {
   "cell_type": "code",
   "execution_count": null,
   "id": "5e3217f8",
   "metadata": {},
   "outputs": [],
   "source": [
    "def load_embeddings_from_jsonl(path):\n",
    "    data = []\n",
    "    with open(path, 'r', encoding='utf-8') as f:\n",
    "        for line in f:\n",
    "            data.append(json.loads(line))\n",
    "    return data\n",
    "\n"
   ]
  },
  {
   "cell_type": "markdown",
   "id": "eec32827",
   "metadata": {},
   "source": [
    "### 4.0 Set Up Vector Database"
   ]
  },
  {
   "cell_type": "markdown",
   "id": "05d8195e",
   "metadata": {},
   "source": [
    "* Command to type in terminal: ./qdrant"
   ]
  },
  {
   "cell_type": "code",
   "execution_count": null,
   "id": "48b12f88",
   "metadata": {},
   "outputs": [],
   "source": [
    "# from qdrant_client import QdrantClient\n",
    "# from qdrant_client.models import VectorParams, Distance\n",
    "\n",
    "# client = QdrantClient(\"localhost\", port=6333)\n",
    "\n",
    "# client.create_collection(\n",
    "#     collection_name=\"glove_embedding_collection\",\n",
    "#     vectors_config=VectorParams(size=384, distance=Distance.COSINE)\n",
    "# )"
   ]
  },
  {
   "cell_type": "code",
   "execution_count": null,
   "id": "a0c19fe2",
   "metadata": {},
   "outputs": [],
   "source": [
    "# # Suppose you have:\n",
    "# glove_embedded_pdfs = [vector1, vector2, vector3, ...]\n",
    "# texts = [\"Text for doc 1\", \"Text for doc 2\", \"Text for doc 3\", ...]\n",
    "\n",
    "# batch_size = 64\n",
    "\n",
    "# for i in range(0, len(glove_embedded_pdfs), batch_size):\n",
    "#     batch = glove_embedded_pdfs[i:i+batch_size]\n",
    "    \n",
    "#     points = [\n",
    "#         PointStruct(\n",
    "#             id=i+j,\n",
    "#             vector=embedding,\n",
    "#             payload={\"filename\": filename}  # you can also store the filename if you want\n",
    "#         )\n",
    "#         for j, (filename, embedding) in enumerate(batch)\n",
    "#     ]\n",
    "\n",
    "#     client.upsert(\n",
    "#         collection_name=\"glove_embedding_collection\",\n",
    "#         points=points\n",
    "#     )"
   ]
  },
  {
   "cell_type": "markdown",
   "id": "ffd65743",
   "metadata": {},
   "source": [
    "# 4.0 and 5.0 Set Up Vector Database and Index Enbeddings\n",
    "\n",
    "Store the embeddings from each model in separate collections or with different\n",
    "naming conventions.\n",
    "\n",
    "## remember .qdrant to make the program run"
   ]
  },
  {
   "cell_type": "code",
   "execution_count": null,
   "id": "a5643d0c",
   "metadata": {},
   "outputs": [],
   "source": [
    "from qdrant_client import QdrantClient\n",
    "from qdrant_client.models import VectorParams, Distance, PointStruct\n",
    "import numpy as np\n",
    "import json\n",
    "\n",
    "client = QdrantClient(\"localhost\", port=6333)\n",
    "\n",
    "def upsert_to_qdrant(embedded_data, model_name, vector_size):\n",
    "    collection_name = f\"{model_name}_embedding_collection\"\n",
    "\n",
    "    # Create collection (run only once)\n",
    "    client.recreate_collection(\n",
    "        collection_name=collection_name,\n",
    "        vectors_config=VectorParams(\n",
    "            size=vector_size,\n",
    "            distance=Distance.COSINE\n",
    "        )\n",
    "    )\n",
    "\n",
    "    batch_size = 64\n",
    "    for i in range(0, len(embedded_data), batch_size):\n",
    "        batch = embedded_data[i:i+batch_size]\n",
    "        points = [\n",
    "            PointStruct(\n",
    "                id=i + j,\n",
    "                vector=embedding.tolist() if hasattr(embedding, \"tolist\") else list(embedding),\n",
    "                payload={\n",
    "                    \"filename\": filename,\n",
    "                    \"text\": text\n",
    "                }\n",
    "            )\n",
    "            for j, (filename, embedding, text) in enumerate(batch)\n",
    "        ]\n",
    "\n",
    "        client.upsert(collection_name=collection_name, points=points)\n",
    "\n",
    "    print(f\"Upserted {len(embedded_data)} vectors to {collection_name}.\")\n",
    "\n",
    "\n",
    "# RAG Search\n",
    "def search_qdrant(query_text, model_name, vector_size, limit=3):\n",
    "    collection_name = f\"{model_name}_embedding_collection\"\n",
    "    \n",
    "    if model_name == \"glove\":\n",
    "        query_vector = glove_embed(query_text, glove_embeddings, vector_size=vector_size)\n",
    "    elif model_name == \"sbert\":\n",
    "        query_vector = sbert_embed(query_text)\n",
    "    elif model_name == \"open_ai\":\n",
    "        query_vector = openai_embed(query_text)\n",
    "    else:\n",
    "        raise ValueError(\"Invalid model name\")\n",
    "\n",
    "    results = client.search(\n",
    "        collection_name=collection_name,\n",
    "        query_vector=query_vector,\n",
    "        limit=limit\n",
    "    )\n",
    "\n",
    "    docs = []\n",
    "    for hit in results:\n",
    "        payload = hit.payload\n",
    "        if 'text' in payload:\n",
    "            docs.append(payload['text'])\n",
    "        else:\n",
    "            print(\"Missing 'text' in payload:\", payload)\n",
    "\n",
    "    return docs\n"
   ]
  },
  {
   "cell_type": "markdown",
   "id": "04db87e1",
   "metadata": {},
   "source": [
    "# 6.0 Implement RAG\n",
    "Create a simple RAG pipeline using each set of embeddings"
   ]
  },
  {
   "cell_type": "code",
   "execution_count": null,
   "id": "a40d1839",
   "metadata": {},
   "outputs": [],
   "source": [
    "query_embedding = embed_query(\"What is photosynthesis?\")  # Get embedding of query\n",
    "\n",
    "search_result = client.search(\n",
    "    collection_name=\"glove_embedding_collection\",\n",
    "    query_vector=query_embedding,\n",
    "    limit=3\n",
    ")\n",
    "\n",
    "# Extract relevant documents\n",
    "docs = [hit.payload['text'] for hit in search_result]\n",
    "\n",
    "# Combine docs + user query to create a context-rich prompt for LLM\n",
    "rag_prompt = \"Use the following documents to answer:\\n\\n\" + \"\\n\\n\".join(docs) + \"\\n\\nQuestion: What is photosynthesis?\"\n"
   ]
  },
  {
   "cell_type": "markdown",
   "id": "f00cdfef",
   "metadata": {},
   "source": [
    "# 7.0 Evaluate Performance\n",
    "\n",
    "Test the RAG system with a set of queries and evaluate based on metrics like\n",
    "- relevance, \n",
    "- accuracy, and \n",
    "- response quality"
   ]
  },
  {
   "cell_type": "markdown",
   "id": "6c04ae10",
   "metadata": {},
   "source": []
  }
 ],
 "metadata": {
  "kernelspec": {
   "display_name": "krag_project",
   "language": "python",
   "name": "python3"
  },
  "language_info": {
   "codemirror_mode": {
    "name": "ipython",
    "version": 3
   },
   "file_extension": ".py",
   "mimetype": "text/x-python",
   "name": "python",
   "nbconvert_exporter": "python",
   "pygments_lexer": "ipython3",
   "version": "3.11.11"
  }
 },
 "nbformat": 4,
 "nbformat_minor": 5
}
